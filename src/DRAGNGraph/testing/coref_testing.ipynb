{
 "cells": [
  {
   "cell_type": "code",
   "execution_count": 10,
   "metadata": {},
   "outputs": [
    {
     "name": "stdout",
     "output_type": "stream",
     "text": [
      "Clsuters:-\n",
      "[[0, 0], [5, 5], [11, 11], [25, 25]]\n",
      "[[14, 15], [17, 17], [30, 30]]\n",
      "\n",
      "\n",
      "\n",
      "Coref resolved:  Trevor is really cool. Trevor has nice hair. But Trevor also has a mustache. a mustache is really nice looking. However, Trevor's humor is better than a mustache.\n"
     ]
    }
   ],
   "source": [
    "from allennlp.predictors.predictor import Predictor\n",
    "\n",
    "model_url = \"https://storage.googleapis.com/allennlp-public-models/coref-spanbert-large-2020.02.27.tar.gz\"\n",
    "predictor = Predictor.from_path(model_url)\n",
    "\n",
    "#text = \"Joseph Robinette Biden Jr. is an American politician who is the 46th and\\\n",
    "#current president of the United States. A member of the Democratic Party, \\\n",
    "#he served as the 47th vice president from 2009 to 2017 under Barack Obama and\\\n",
    "#represented Delaware in the United States Senate from 1973 to 2009.\"\n",
    "text = \"Trevor is really cool. He has nice hair. But he also has a mustache. It is really nice looking. However, his humor is better than it.\"\n",
    "\n",
    "prediction = predictor.predict(document=text)  # get prediction\n",
    "print(\"Clsuters:-\")\n",
    "for cluster in prediction['clusters']:\n",
    "    print(cluster)  # list of clusters (the indices of spaCy tokens)\n",
    "# Result: [[[0, 3], [26, 26]], [[34, 34], [50, 50]]]\n",
    "print('\\n\\n') #Newline\n",
    "\n",
    "print('Coref resolved: ',predictor.coref_resolved(text))  # resolved text\n",
    "# Result: Joseph Robinette Biden Jr. is an American politician who is the 46th andcurrent president of the United States. A member of the Democratic Party, Joseph Robinette Biden Jr. served as the 47th vice president from 2009 to 2017 under Barack Obama andrepresented Delaware in the United States Senate from 1973 to 2009."
   ]
  }
 ],
 "metadata": {
  "kernelspec": {
   "display_name": "Python 3.10.8 64-bit",
   "language": "python",
   "name": "python3"
  },
  "language_info": {
   "codemirror_mode": {
    "name": "ipython",
    "version": 3
   },
   "file_extension": ".py",
   "mimetype": "text/x-python",
   "name": "python",
   "nbconvert_exporter": "python",
   "pygments_lexer": "ipython3",
   "version": "3.10.8"
  },
  "orig_nbformat": 4,
  "vscode": {
   "interpreter": {
    "hash": "aee8b7b246df8f9039afb4144a1f6fd8d2ca17a180786b69acc140d282b71a49"
   }
  }
 },
 "nbformat": 4,
 "nbformat_minor": 2
}
